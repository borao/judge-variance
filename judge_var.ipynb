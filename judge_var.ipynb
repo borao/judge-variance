{
  "nbformat": 4,
  "nbformat_minor": 0,
  "metadata": {
    "colab": {
      "name": "judge-var.ipynb",
      "provenance": [],
      "toc_visible": true,
      "authorship_tag": "ABX9TyOD22pB+VouYu4/izOKDr/P"
    },
    "kernelspec": {
      "name": "python3",
      "display_name": "Python 3"
    }
  },
  "cells": [
    {
      "cell_type": "code",
      "metadata": {
        "id": "405FjZ10BOar",
        "colab_type": "code",
        "colab": {}
      },
      "source": [
        "# Import libraries\n",
        "import xml.etree.cElementTree as et\n",
        "import pandas as pd"
      ],
      "execution_count": 92,
      "outputs": []
    },
    {
      "cell_type": "code",
      "metadata": {
        "id": "cgWOeBx6BP41",
        "colab_type": "code",
        "colab": {}
      },
      "source": [
        "# Define function to get values if they exist\n",
        "def getvalueofnode(node):\n",
        "    return node.text if node is not None else None"
      ],
      "execution_count": 93,
      "outputs": []
    },
    {
      "cell_type": "code",
      "metadata": {
        "id": "YilW8iiYEbLP",
        "colab_type": "code",
        "colab": {}
      },
      "source": [
        "# Load data\n",
        "parsed_xml = et.parse(\"dec_data.xml\")"
      ],
      "execution_count": 94,
      "outputs": []
    },
    {
      "cell_type": "code",
      "metadata": {
        "id": "47f6L2cVBb74",
        "colab_type": "code",
        "colab": {}
      },
      "source": [
        "# Load points and wins into DataFrames\n",
        "dfcols = ['ballot', 'recipient', 'score']\n",
        "# Define DataFrames for points and wins\n",
        "points = pd.DataFrame(columns=dfcols)\n",
        "wins = pd.DataFrame(columns=dfcols)\n",
        "\n",
        "# For each 'BALLOT_SCORE', add to points or wins depending on what it is\n",
        "for node in parsed_xml.getroot().findall(\"BALLOT_SCORE\"):\n",
        "    ballot = node.find('BALLOT')\n",
        "    recipient = node.find('RECIPIENT')\n",
        "    score = node.find('SCORE')\n",
        "\n",
        "    if node.find('SCORE_ID').text == 'POINTS':\n",
        "      points = points.append(\n",
        "        pd.Series([getvalueofnode(ballot), getvalueofnode(recipient), float(getvalueofnode(score))], index=dfcols),\n",
        "        ignore_index=True)\n",
        "    else:\n",
        "      wins = wins.append(\n",
        "        pd.Series([getvalueofnode(ballot), getvalueofnode(recipient), getvalueofnode(score)], index=dfcols),\n",
        "        ignore_index=True)"
      ],
      "execution_count": 95,
      "outputs": []
    },
    {
      "cell_type": "code",
      "metadata": {
        "id": "8CUFlSZBGByM",
        "colab_type": "code",
        "colab": {
          "base_uri": "https://localhost:8080/",
          "height": 204
        },
        "outputId": "16c6f279-03d5-4c7b-d9b7-fd247965d755"
      },
      "source": [
        "points.head()"
      ],
      "execution_count": 96,
      "outputs": [
        {
          "output_type": "execute_result",
          "data": {
            "text/html": [
              "<div>\n",
              "<style scoped>\n",
              "    .dataframe tbody tr th:only-of-type {\n",
              "        vertical-align: middle;\n",
              "    }\n",
              "\n",
              "    .dataframe tbody tr th {\n",
              "        vertical-align: top;\n",
              "    }\n",
              "\n",
              "    .dataframe thead th {\n",
              "        text-align: right;\n",
              "    }\n",
              "</style>\n",
              "<table border=\"1\" class=\"dataframe\">\n",
              "  <thead>\n",
              "    <tr style=\"text-align: right;\">\n",
              "      <th></th>\n",
              "      <th>ballot</th>\n",
              "      <th>recipient</th>\n",
              "      <th>score</th>\n",
              "    </tr>\n",
              "  </thead>\n",
              "  <tbody>\n",
              "    <tr>\n",
              "      <th>0</th>\n",
              "      <td>12853384</td>\n",
              "      <td>756282</td>\n",
              "      <td>74.0</td>\n",
              "    </tr>\n",
              "    <tr>\n",
              "      <th>1</th>\n",
              "      <td>12853384</td>\n",
              "      <td>600714</td>\n",
              "      <td>79.0</td>\n",
              "    </tr>\n",
              "    <tr>\n",
              "      <th>2</th>\n",
              "      <td>12853384</td>\n",
              "      <td>604522</td>\n",
              "      <td>79.0</td>\n",
              "    </tr>\n",
              "    <tr>\n",
              "      <th>3</th>\n",
              "      <td>12853385</td>\n",
              "      <td>756147</td>\n",
              "      <td>79.0</td>\n",
              "    </tr>\n",
              "    <tr>\n",
              "      <th>4</th>\n",
              "      <td>12853385</td>\n",
              "      <td>756119</td>\n",
              "      <td>76.0</td>\n",
              "    </tr>\n",
              "  </tbody>\n",
              "</table>\n",
              "</div>"
            ],
            "text/plain": [
              "     ballot recipient  score\n",
              "0  12853384    756282   74.0\n",
              "1  12853384    600714   79.0\n",
              "2  12853384    604522   79.0\n",
              "3  12853385    756147   79.0\n",
              "4  12853385    756119   76.0"
            ]
          },
          "metadata": {
            "tags": []
          },
          "execution_count": 96
        }
      ]
    },
    {
      "cell_type": "code",
      "metadata": {
        "id": "yg1TZXYnCi9C",
        "colab_type": "code",
        "colab": {}
      },
      "source": [
        "# Load student information\n",
        "students = pd.DataFrame(columns=['id', 'school', 'team', 'first', 'last'])\n",
        "\n",
        "# For each 'ENTRY_STUDENT', add to students DataFrame\n",
        "for node in parsed_xml.getroot().findall(\"ENTRY_STUDENT\"):\n",
        "  id = node.find('ID')\n",
        "  school = node.find('SCHOOL')\n",
        "  team = node.find('ENTRY')\n",
        "  first = node.find('FIRST')\n",
        "  last = node.find('LAST')\n",
        "\n",
        "  students = students.append(pd.Series([getvalueofnode(id), getvalueofnode(school), \n",
        "                                        getvalueofnode(team), getvalueofnode(first), \n",
        "                                        getvalueofnode(last)], index=students.columns), ignore_index=True)\n",
        "  \n",
        "# Remove grade level from student name and add it to grade column\n",
        "students['grade'] = students['first'].str.extract('(\\d+)')\n",
        "students['first'] = students['first'].str.replace('\\d+', '')"
      ],
      "execution_count": 97,
      "outputs": []
    },
    {
      "cell_type": "code",
      "metadata": {
        "id": "Nu3iyIp1FYxr",
        "colab_type": "code",
        "colab": {
          "base_uri": "https://localhost:8080/",
          "height": 204
        },
        "outputId": "05676bb8-ad66-4b7a-c3c5-b02118f7dc08"
      },
      "source": [
        "students.head()"
      ],
      "execution_count": 98,
      "outputs": [
        {
          "output_type": "execute_result",
          "data": {
            "text/html": [
              "<div>\n",
              "<style scoped>\n",
              "    .dataframe tbody tr th:only-of-type {\n",
              "        vertical-align: middle;\n",
              "    }\n",
              "\n",
              "    .dataframe tbody tr th {\n",
              "        vertical-align: top;\n",
              "    }\n",
              "\n",
              "    .dataframe thead th {\n",
              "        text-align: right;\n",
              "    }\n",
              "</style>\n",
              "<table border=\"1\" class=\"dataframe\">\n",
              "  <thead>\n",
              "    <tr style=\"text-align: right;\">\n",
              "      <th></th>\n",
              "      <th>id</th>\n",
              "      <th>school</th>\n",
              "      <th>team</th>\n",
              "      <th>first</th>\n",
              "      <th>last</th>\n",
              "      <th>grade</th>\n",
              "    </tr>\n",
              "  </thead>\n",
              "  <tbody>\n",
              "    <tr>\n",
              "      <th>0</th>\n",
              "      <td>755264</td>\n",
              "      <td>244063</td>\n",
              "      <td>2140762</td>\n",
              "      <td>Paige</td>\n",
              "      <td>Bringas</td>\n",
              "      <td>6</td>\n",
              "    </tr>\n",
              "    <tr>\n",
              "      <th>1</th>\n",
              "      <td>672912</td>\n",
              "      <td>244063</td>\n",
              "      <td>2140762</td>\n",
              "      <td>Joy</td>\n",
              "      <td>Cho</td>\n",
              "      <td>6</td>\n",
              "    </tr>\n",
              "    <tr>\n",
              "      <th>2</th>\n",
              "      <td>755266</td>\n",
              "      <td>244063</td>\n",
              "      <td>2140762</td>\n",
              "      <td>Rebekah</td>\n",
              "      <td>Kim</td>\n",
              "      <td>6</td>\n",
              "    </tr>\n",
              "    <tr>\n",
              "      <th>3</th>\n",
              "      <td>598796</td>\n",
              "      <td>244063</td>\n",
              "      <td>2140748</td>\n",
              "      <td>Elizabeth</td>\n",
              "      <td>Choe</td>\n",
              "      <td>6</td>\n",
              "    </tr>\n",
              "    <tr>\n",
              "      <th>4</th>\n",
              "      <td>755253</td>\n",
              "      <td>244063</td>\n",
              "      <td>2140748</td>\n",
              "      <td>Zyaire</td>\n",
              "      <td>Eastland</td>\n",
              "      <td>6</td>\n",
              "    </tr>\n",
              "  </tbody>\n",
              "</table>\n",
              "</div>"
            ],
            "text/plain": [
              "       id  school     team      first      last grade\n",
              "0  755264  244063  2140762      Paige   Bringas     6\n",
              "1  672912  244063  2140762        Joy       Cho     6\n",
              "2  755266  244063  2140762    Rebekah       Kim     6\n",
              "3  598796  244063  2140748  Elizabeth      Choe     6\n",
              "4  755253  244063  2140748     Zyaire  Eastland     6"
            ]
          },
          "metadata": {
            "tags": []
          },
          "execution_count": 98
        }
      ]
    },
    {
      "cell_type": "code",
      "metadata": {
        "id": "lEMIZhhWFuB8",
        "colab_type": "code",
        "colab": {}
      },
      "source": [
        "# Label points with student names\n",
        "points_with_names = points.merge(students, left_on='recipient', right_on='id')"
      ],
      "execution_count": 99,
      "outputs": []
    },
    {
      "cell_type": "code",
      "metadata": {
        "id": "uTveX8ZkGWNW",
        "colab_type": "code",
        "colab": {
          "base_uri": "https://localhost:8080/",
          "height": 419
        },
        "outputId": "105baba6-08fe-4bd6-cef3-af3ef4c14fe0"
      },
      "source": [
        "points_with_names"
      ],
      "execution_count": 100,
      "outputs": [
        {
          "output_type": "execute_result",
          "data": {
            "text/html": [
              "<div>\n",
              "<style scoped>\n",
              "    .dataframe tbody tr th:only-of-type {\n",
              "        vertical-align: middle;\n",
              "    }\n",
              "\n",
              "    .dataframe tbody tr th {\n",
              "        vertical-align: top;\n",
              "    }\n",
              "\n",
              "    .dataframe thead th {\n",
              "        text-align: right;\n",
              "    }\n",
              "</style>\n",
              "<table border=\"1\" class=\"dataframe\">\n",
              "  <thead>\n",
              "    <tr style=\"text-align: right;\">\n",
              "      <th></th>\n",
              "      <th>ballot</th>\n",
              "      <th>recipient</th>\n",
              "      <th>score</th>\n",
              "      <th>id</th>\n",
              "      <th>school</th>\n",
              "      <th>team</th>\n",
              "      <th>first</th>\n",
              "      <th>last</th>\n",
              "      <th>grade</th>\n",
              "    </tr>\n",
              "  </thead>\n",
              "  <tbody>\n",
              "    <tr>\n",
              "      <th>0</th>\n",
              "      <td>12853384</td>\n",
              "      <td>756282</td>\n",
              "      <td>74.0</td>\n",
              "      <td>756282</td>\n",
              "      <td>244518</td>\n",
              "      <td>2146448</td>\n",
              "      <td>David</td>\n",
              "      <td>Lu</td>\n",
              "      <td>21</td>\n",
              "    </tr>\n",
              "    <tr>\n",
              "      <th>1</th>\n",
              "      <td>12860681</td>\n",
              "      <td>756282</td>\n",
              "      <td>74.0</td>\n",
              "      <td>756282</td>\n",
              "      <td>244518</td>\n",
              "      <td>2146448</td>\n",
              "      <td>David</td>\n",
              "      <td>Lu</td>\n",
              "      <td>21</td>\n",
              "    </tr>\n",
              "    <tr>\n",
              "      <th>2</th>\n",
              "      <td>12868603</td>\n",
              "      <td>756282</td>\n",
              "      <td>79.0</td>\n",
              "      <td>756282</td>\n",
              "      <td>244518</td>\n",
              "      <td>2146448</td>\n",
              "      <td>David</td>\n",
              "      <td>Lu</td>\n",
              "      <td>21</td>\n",
              "    </tr>\n",
              "    <tr>\n",
              "      <th>3</th>\n",
              "      <td>12872761</td>\n",
              "      <td>756282</td>\n",
              "      <td>71.0</td>\n",
              "      <td>756282</td>\n",
              "      <td>244518</td>\n",
              "      <td>2146448</td>\n",
              "      <td>David</td>\n",
              "      <td>Lu</td>\n",
              "      <td>21</td>\n",
              "    </tr>\n",
              "    <tr>\n",
              "      <th>4</th>\n",
              "      <td>12853384</td>\n",
              "      <td>600714</td>\n",
              "      <td>79.0</td>\n",
              "      <td>600714</td>\n",
              "      <td>244518</td>\n",
              "      <td>2146448</td>\n",
              "      <td>Rachel</td>\n",
              "      <td>Nazareth</td>\n",
              "      <td>21</td>\n",
              "    </tr>\n",
              "    <tr>\n",
              "      <th>...</th>\n",
              "      <td>...</td>\n",
              "      <td>...</td>\n",
              "      <td>...</td>\n",
              "      <td>...</td>\n",
              "      <td>...</td>\n",
              "      <td>...</td>\n",
              "      <td>...</td>\n",
              "      <td>...</td>\n",
              "      <td>...</td>\n",
              "    </tr>\n",
              "    <tr>\n",
              "      <th>1407</th>\n",
              "      <td>12872837</td>\n",
              "      <td>755431</td>\n",
              "      <td>80.0</td>\n",
              "      <td>755431</td>\n",
              "      <td>242458</td>\n",
              "      <td>2141361</td>\n",
              "      <td>Siddhanth</td>\n",
              "      <td>Kumar</td>\n",
              "      <td>8</td>\n",
              "    </tr>\n",
              "    <tr>\n",
              "      <th>1408</th>\n",
              "      <td>12853401</td>\n",
              "      <td>755426</td>\n",
              "      <td>80.0</td>\n",
              "      <td>755426</td>\n",
              "      <td>242458</td>\n",
              "      <td>2141361</td>\n",
              "      <td>Ayushi</td>\n",
              "      <td>Kadakia</td>\n",
              "      <td>8</td>\n",
              "    </tr>\n",
              "    <tr>\n",
              "      <th>1409</th>\n",
              "      <td>12860640</td>\n",
              "      <td>755426</td>\n",
              "      <td>76.0</td>\n",
              "      <td>755426</td>\n",
              "      <td>242458</td>\n",
              "      <td>2141361</td>\n",
              "      <td>Ayushi</td>\n",
              "      <td>Kadakia</td>\n",
              "      <td>8</td>\n",
              "    </tr>\n",
              "    <tr>\n",
              "      <th>1410</th>\n",
              "      <td>12868644</td>\n",
              "      <td>755426</td>\n",
              "      <td>82.0</td>\n",
              "      <td>755426</td>\n",
              "      <td>242458</td>\n",
              "      <td>2141361</td>\n",
              "      <td>Ayushi</td>\n",
              "      <td>Kadakia</td>\n",
              "      <td>8</td>\n",
              "    </tr>\n",
              "    <tr>\n",
              "      <th>1411</th>\n",
              "      <td>12872837</td>\n",
              "      <td>755426</td>\n",
              "      <td>80.0</td>\n",
              "      <td>755426</td>\n",
              "      <td>242458</td>\n",
              "      <td>2141361</td>\n",
              "      <td>Ayushi</td>\n",
              "      <td>Kadakia</td>\n",
              "      <td>8</td>\n",
              "    </tr>\n",
              "  </tbody>\n",
              "</table>\n",
              "<p>1412 rows × 9 columns</p>\n",
              "</div>"
            ],
            "text/plain": [
              "        ballot recipient  score      id  ...     team      first      last grade\n",
              "0     12853384    756282   74.0  756282  ...  2146448      David        Lu    21\n",
              "1     12860681    756282   74.0  756282  ...  2146448      David        Lu    21\n",
              "2     12868603    756282   79.0  756282  ...  2146448      David        Lu    21\n",
              "3     12872761    756282   71.0  756282  ...  2146448      David        Lu    21\n",
              "4     12853384    600714   79.0  600714  ...  2146448     Rachel  Nazareth    21\n",
              "...        ...       ...    ...     ...  ...      ...        ...       ...   ...\n",
              "1407  12872837    755431   80.0  755431  ...  2141361  Siddhanth     Kumar     8\n",
              "1408  12853401    755426   80.0  755426  ...  2141361     Ayushi   Kadakia     8\n",
              "1409  12860640    755426   76.0  755426  ...  2141361     Ayushi   Kadakia     8\n",
              "1410  12868644    755426   82.0  755426  ...  2141361     Ayushi   Kadakia     8\n",
              "1411  12872837    755426   80.0  755426  ...  2141361     Ayushi   Kadakia     8\n",
              "\n",
              "[1412 rows x 9 columns]"
            ]
          },
          "metadata": {
            "tags": []
          },
          "execution_count": 100
        }
      ]
    },
    {
      "cell_type": "code",
      "metadata": {
        "id": "vQfuRaEAGXJa",
        "colab_type": "code",
        "colab": {}
      },
      "source": [
        "student_performance = points_with_names.groupby('recipient').agg({'score': ('max', 'min')})"
      ],
      "execution_count": 101,
      "outputs": []
    },
    {
      "cell_type": "code",
      "metadata": {
        "id": "nWoOXnO4JJkP",
        "colab_type": "code",
        "colab": {
          "base_uri": "https://localhost:8080/",
          "height": 266
        },
        "outputId": "68d15c07-fe9f-45ed-bb28-5cda915795f5"
      },
      "source": [
        "student_performance.head()"
      ],
      "execution_count": 102,
      "outputs": [
        {
          "output_type": "execute_result",
          "data": {
            "text/html": [
              "<div>\n",
              "<style scoped>\n",
              "    .dataframe tbody tr th:only-of-type {\n",
              "        vertical-align: middle;\n",
              "    }\n",
              "\n",
              "    .dataframe tbody tr th {\n",
              "        vertical-align: top;\n",
              "    }\n",
              "\n",
              "    .dataframe thead tr th {\n",
              "        text-align: left;\n",
              "    }\n",
              "\n",
              "    .dataframe thead tr:last-of-type th {\n",
              "        text-align: right;\n",
              "    }\n",
              "</style>\n",
              "<table border=\"1\" class=\"dataframe\">\n",
              "  <thead>\n",
              "    <tr>\n",
              "      <th></th>\n",
              "      <th colspan=\"2\" halign=\"left\">score</th>\n",
              "    </tr>\n",
              "    <tr>\n",
              "      <th></th>\n",
              "      <th>max</th>\n",
              "      <th>min</th>\n",
              "    </tr>\n",
              "    <tr>\n",
              "      <th>recipient</th>\n",
              "      <th></th>\n",
              "      <th></th>\n",
              "    </tr>\n",
              "  </thead>\n",
              "  <tbody>\n",
              "    <tr>\n",
              "      <th>459193</th>\n",
              "      <td>81.0</td>\n",
              "      <td>75.0</td>\n",
              "    </tr>\n",
              "    <tr>\n",
              "      <th>459198</th>\n",
              "      <td>78.0</td>\n",
              "      <td>75.0</td>\n",
              "    </tr>\n",
              "    <tr>\n",
              "      <th>459581</th>\n",
              "      <td>78.0</td>\n",
              "      <td>75.0</td>\n",
              "    </tr>\n",
              "    <tr>\n",
              "      <th>460423</th>\n",
              "      <td>82.0</td>\n",
              "      <td>74.0</td>\n",
              "    </tr>\n",
              "    <tr>\n",
              "      <th>460427</th>\n",
              "      <td>84.0</td>\n",
              "      <td>77.0</td>\n",
              "    </tr>\n",
              "  </tbody>\n",
              "</table>\n",
              "</div>"
            ],
            "text/plain": [
              "          score      \n",
              "            max   min\n",
              "recipient            \n",
              "459193     81.0  75.0\n",
              "459198     78.0  75.0\n",
              "459581     78.0  75.0\n",
              "460423     82.0  74.0\n",
              "460427     84.0  77.0"
            ]
          },
          "metadata": {
            "tags": []
          },
          "execution_count": 102
        }
      ]
    },
    {
      "cell_type": "code",
      "metadata": {
        "id": "rgU5IPOUJv1e",
        "colab_type": "code",
        "colab": {}
      },
      "source": [
        "student_performance['score', 'range'] = student_performance['score', 'max'] - student_performance['score', 'min']"
      ],
      "execution_count": 103,
      "outputs": []
    },
    {
      "cell_type": "code",
      "metadata": {
        "id": "HeTQYjXWJ8sA",
        "colab_type": "code",
        "colab": {
          "base_uri": "https://localhost:8080/",
          "height": 283
        },
        "outputId": "3585544a-3db6-442e-e770-38467036bdb3"
      },
      "source": [
        "high_range = student_performance[student_performance['score', 'range'] >= 10]\n",
        "print(high_range.shape[0] / student_performance.shape[0])\n",
        "high_range.head()"
      ],
      "execution_count": 104,
      "outputs": [
        {
          "output_type": "stream",
          "text": [
            "0.1954674220963173\n"
          ],
          "name": "stdout"
        },
        {
          "output_type": "execute_result",
          "data": {
            "text/html": [
              "<div>\n",
              "<style scoped>\n",
              "    .dataframe tbody tr th:only-of-type {\n",
              "        vertical-align: middle;\n",
              "    }\n",
              "\n",
              "    .dataframe tbody tr th {\n",
              "        vertical-align: top;\n",
              "    }\n",
              "\n",
              "    .dataframe thead tr th {\n",
              "        text-align: left;\n",
              "    }\n",
              "\n",
              "    .dataframe thead tr:last-of-type th {\n",
              "        text-align: right;\n",
              "    }\n",
              "</style>\n",
              "<table border=\"1\" class=\"dataframe\">\n",
              "  <thead>\n",
              "    <tr>\n",
              "      <th></th>\n",
              "      <th colspan=\"3\" halign=\"left\">score</th>\n",
              "    </tr>\n",
              "    <tr>\n",
              "      <th></th>\n",
              "      <th>max</th>\n",
              "      <th>min</th>\n",
              "      <th>range</th>\n",
              "    </tr>\n",
              "    <tr>\n",
              "      <th>recipient</th>\n",
              "      <th></th>\n",
              "      <th></th>\n",
              "      <th></th>\n",
              "    </tr>\n",
              "  </thead>\n",
              "  <tbody>\n",
              "    <tr>\n",
              "      <th>599062</th>\n",
              "      <td>84.0</td>\n",
              "      <td>74.0</td>\n",
              "      <td>10.0</td>\n",
              "    </tr>\n",
              "    <tr>\n",
              "      <th>599826</th>\n",
              "      <td>84.0</td>\n",
              "      <td>74.0</td>\n",
              "      <td>10.0</td>\n",
              "    </tr>\n",
              "    <tr>\n",
              "      <th>600691</th>\n",
              "      <td>85.0</td>\n",
              "      <td>70.0</td>\n",
              "      <td>15.0</td>\n",
              "    </tr>\n",
              "    <tr>\n",
              "      <th>600692</th>\n",
              "      <td>86.0</td>\n",
              "      <td>72.0</td>\n",
              "      <td>14.0</td>\n",
              "    </tr>\n",
              "    <tr>\n",
              "      <th>600694</th>\n",
              "      <td>83.0</td>\n",
              "      <td>72.0</td>\n",
              "      <td>11.0</td>\n",
              "    </tr>\n",
              "  </tbody>\n",
              "</table>\n",
              "</div>"
            ],
            "text/plain": [
              "          score            \n",
              "            max   min range\n",
              "recipient                  \n",
              "599062     84.0  74.0  10.0\n",
              "599826     84.0  74.0  10.0\n",
              "600691     85.0  70.0  15.0\n",
              "600692     86.0  72.0  14.0\n",
              "600694     83.0  72.0  11.0"
            ]
          },
          "metadata": {
            "tags": []
          },
          "execution_count": 104
        }
      ]
    },
    {
      "cell_type": "code",
      "metadata": {
        "id": "-2bGMxhgKH6r",
        "colab_type": "code",
        "colab": {}
      },
      "source": [
        ""
      ],
      "execution_count": null,
      "outputs": []
    }
  ]
}